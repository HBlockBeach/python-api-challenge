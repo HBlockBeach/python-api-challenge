{
 "cells": [
  {
   "cell_type": "markdown",
   "metadata": {},
   "source": [
    "# VacationPy\n",
    "----\n",
    "\n",
    "#### Note\n",
    "* Instructions have been included for each segment. You do not have to follow them exactly, but they are included to help you think through the steps."
   ]
  },
  {
   "cell_type": "code",
   "execution_count": 1,
   "metadata": {},
   "outputs": [],
   "source": [
    "# Dependencies and Setup\n",
    "\n",
    "import matplotlib.pyplot as plt\n",
    "import pandas as pd\n",
    "import numpy as np\n",
    "import requests\n",
    "import gmaps\n",
    "import os\n",
    "from pprint import pprint \n",
    "# Import API key\n",
    "from config import g_key\n",
    ""
   ]
  },
  {
   "cell_type": "markdown",
   "metadata": {},
   "source": [
    "### Store Part I results into DataFrame\n",
    "* Load the csv exported in Part I to a DataFrame"
   ]
  },
  {
   "cell_type": "code",
   "execution_count": 2,
   "metadata": {},
   "outputs": [
    {
     "output_type": "execute_result",
     "data": {
      "text/plain": "     Unnamed: 0            City    lat     lon   temp  temp_max  humidity  \\\n0             0        Mananara -16.17   49.77  79.72     79.72      83.0   \n1             1          Castro -24.79  -50.01  66.36     66.36      54.0   \n2             2          Albany  42.60  -73.97  36.90     39.99      69.0   \n3             3         Huarmey -10.07  -78.15  73.45     73.45      77.0   \n4             4      Chokurdakh  70.63  147.92  -0.44     -0.44      92.0   \n..          ...             ...    ...     ...    ...       ...       ...   \n541         606           Macia -25.03   33.10  76.71     76.71      60.0   \n542         607            Brae  60.40   -1.35  37.99     39.20      55.0   \n543         609          Zlobin  45.29   14.65  62.46     66.20      29.0   \n544         610    Severodvinsk  64.56   39.83  42.80     42.80      56.0   \n545         611  Puerto Carreño   6.19  -67.49  84.20     84.20      48.0   \n\n     cloudiness  wind_speed country  \n0          98.0        5.84      MG  \n1          81.0        5.86      BR  \n2          75.0        0.81      US  \n3          99.0        4.07      PE  \n4          66.0        2.75      RU  \n..          ...         ...     ...  \n541        17.0        9.64      MZ  \n542        60.0       24.16      GB  \n543        39.0        8.05      HR  \n544        40.0        8.95      RU  \n545        23.0       11.41      CO  \n\n[546 rows x 10 columns]",
      "text/html": "<div>\n<style scoped>\n    .dataframe tbody tr th:only-of-type {\n        vertical-align: middle;\n    }\n\n    .dataframe tbody tr th {\n        vertical-align: top;\n    }\n\n    .dataframe thead th {\n        text-align: right;\n    }\n</style>\n<table border=\"1\" class=\"dataframe\">\n  <thead>\n    <tr style=\"text-align: right;\">\n      <th></th>\n      <th>Unnamed: 0</th>\n      <th>City</th>\n      <th>lat</th>\n      <th>lon</th>\n      <th>temp</th>\n      <th>temp_max</th>\n      <th>humidity</th>\n      <th>cloudiness</th>\n      <th>wind_speed</th>\n      <th>country</th>\n    </tr>\n  </thead>\n  <tbody>\n    <tr>\n      <th>0</th>\n      <td>0</td>\n      <td>Mananara</td>\n      <td>-16.17</td>\n      <td>49.77</td>\n      <td>79.72</td>\n      <td>79.72</td>\n      <td>83.0</td>\n      <td>98.0</td>\n      <td>5.84</td>\n      <td>MG</td>\n    </tr>\n    <tr>\n      <th>1</th>\n      <td>1</td>\n      <td>Castro</td>\n      <td>-24.79</td>\n      <td>-50.01</td>\n      <td>66.36</td>\n      <td>66.36</td>\n      <td>54.0</td>\n      <td>81.0</td>\n      <td>5.86</td>\n      <td>BR</td>\n    </tr>\n    <tr>\n      <th>2</th>\n      <td>2</td>\n      <td>Albany</td>\n      <td>42.60</td>\n      <td>-73.97</td>\n      <td>36.90</td>\n      <td>39.99</td>\n      <td>69.0</td>\n      <td>75.0</td>\n      <td>0.81</td>\n      <td>US</td>\n    </tr>\n    <tr>\n      <th>3</th>\n      <td>3</td>\n      <td>Huarmey</td>\n      <td>-10.07</td>\n      <td>-78.15</td>\n      <td>73.45</td>\n      <td>73.45</td>\n      <td>77.0</td>\n      <td>99.0</td>\n      <td>4.07</td>\n      <td>PE</td>\n    </tr>\n    <tr>\n      <th>4</th>\n      <td>4</td>\n      <td>Chokurdakh</td>\n      <td>70.63</td>\n      <td>147.92</td>\n      <td>-0.44</td>\n      <td>-0.44</td>\n      <td>92.0</td>\n      <td>66.0</td>\n      <td>2.75</td>\n      <td>RU</td>\n    </tr>\n    <tr>\n      <th>...</th>\n      <td>...</td>\n      <td>...</td>\n      <td>...</td>\n      <td>...</td>\n      <td>...</td>\n      <td>...</td>\n      <td>...</td>\n      <td>...</td>\n      <td>...</td>\n      <td>...</td>\n    </tr>\n    <tr>\n      <th>541</th>\n      <td>606</td>\n      <td>Macia</td>\n      <td>-25.03</td>\n      <td>33.10</td>\n      <td>76.71</td>\n      <td>76.71</td>\n      <td>60.0</td>\n      <td>17.0</td>\n      <td>9.64</td>\n      <td>MZ</td>\n    </tr>\n    <tr>\n      <th>542</th>\n      <td>607</td>\n      <td>Brae</td>\n      <td>60.40</td>\n      <td>-1.35</td>\n      <td>37.99</td>\n      <td>39.20</td>\n      <td>55.0</td>\n      <td>60.0</td>\n      <td>24.16</td>\n      <td>GB</td>\n    </tr>\n    <tr>\n      <th>543</th>\n      <td>609</td>\n      <td>Zlobin</td>\n      <td>45.29</td>\n      <td>14.65</td>\n      <td>62.46</td>\n      <td>66.20</td>\n      <td>29.0</td>\n      <td>39.0</td>\n      <td>8.05</td>\n      <td>HR</td>\n    </tr>\n    <tr>\n      <th>544</th>\n      <td>610</td>\n      <td>Severodvinsk</td>\n      <td>64.56</td>\n      <td>39.83</td>\n      <td>42.80</td>\n      <td>42.80</td>\n      <td>56.0</td>\n      <td>40.0</td>\n      <td>8.95</td>\n      <td>RU</td>\n    </tr>\n    <tr>\n      <th>545</th>\n      <td>611</td>\n      <td>Puerto Carreño</td>\n      <td>6.19</td>\n      <td>-67.49</td>\n      <td>84.20</td>\n      <td>84.20</td>\n      <td>48.0</td>\n      <td>23.0</td>\n      <td>11.41</td>\n      <td>CO</td>\n    </tr>\n  </tbody>\n</table>\n<p>546 rows × 10 columns</p>\n</div>"
     },
     "metadata": {},
     "execution_count": 2
    }
   ],
   "source": [
    "data = pd.read_csv(\"../Weather/cities.csv\")\n",
    "data"
   ]
  },
  {
   "cell_type": "markdown",
   "metadata": {},
   "source": [
    "### Humidity Heatmap\n",
    "* Configure gmaps.\n",
    "* Use the Lat and Lng as locations and Humidity as the weight.\n",
    "* Add Heatmap layer to map."
   ]
  },
  {
   "cell_type": "code",
   "execution_count": 3,
   "metadata": {},
   "outputs": [],
   "source": [
    "gmaps.configure(api_key=g_key)\n",
    "locations = data[[\"lat\", \"lon\"]].astype(float)\n",
    "humidity = data[[\"humidity\"]]\n",
    "\n",
    "humidity = pd.to_numeric(humidity[\"humidity\"], downcast = \"float\")"
   ]
  },
  {
   "cell_type": "code",
   "execution_count": 4,
   "metadata": {},
   "outputs": [
    {
     "output_type": "display_data",
     "data": {
      "text/plain": "Figure(layout=FigureLayout(height='420px'))",
      "application/vnd.jupyter.widget-view+json": {
       "version_major": 2,
       "version_minor": 0,
       "model_id": "a56d74e21d264dd4a164d9ff1056d197"
      }
     },
     "metadata": {}
    }
   ],
   "source": [
    "fig = gmaps.figure()\n",
    "\n",
    "heat_map = gmaps.heatmap_layer(locations, weights=humidity, dissipating=False, max_intensity=100, point_radius = 1)\n",
    "\n",
    "fig.add_layer(heat_map)\n",
    "\n",
    "fig"
   ]
  },
  {
   "cell_type": "markdown",
   "metadata": {},
   "source": [
    "### Create new DataFrame fitting weather criteria\n",
    "* Narrow down the cities to fit weather conditions.\n",
    "* Drop any rows will null values."
   ]
  },
  {
   "cell_type": "code",
   "execution_count": 5,
   "metadata": {},
   "outputs": [
    {
     "output_type": "stream",
     "name": "stdout",
     "text": "<class 'pandas.core.frame.DataFrame'>\nInt64Index: 6 entries, 21 to 384\nData columns (total 10 columns):\n #   Column      Non-Null Count  Dtype  \n---  ------      --------------  -----  \n 0   Unnamed: 0  6 non-null      int64  \n 1   City        6 non-null      object \n 2   lat         6 non-null      float64\n 3   lon         6 non-null      float64\n 4   temp        6 non-null      float64\n 5   temp_max    6 non-null      float64\n 6   humidity    6 non-null      float64\n 7   cloudiness  6 non-null      float64\n 8   wind_speed  6 non-null      float64\n 9   country     6 non-null      object \ndtypes: float64(7), int64(1), object(2)\nmemory usage: 528.0+ bytes\n"
    }
   ],
   "source": [
    "ideal_data = data.loc[(data[\"temp_max\"]>70) & (data[\"temp_max\"] < 80) & (data[\"wind_speed\"] < 10) & (data[\"cloudiness\"] == 0)]\n",
    "ideal_data.info()"
   ]
  },
  {
   "cell_type": "markdown",
   "metadata": {},
   "source": [
    "### Hotel Map\n",
    "* Store into variable named `hotel_df`.\n",
    "* Add a \"Hotel Name\" column to the DataFrame.\n",
    "* Set parameters to search for hotels with 5000 meters.\n",
    "* Hit the Google Places API for each city's coordinates.\n",
    "* Store the first Hotel result into the DataFrame.\n",
    "* Plot markers on top of the heatmap."
   ]
  },
  {
   "cell_type": "code",
   "execution_count": 6,
   "metadata": {
    "tags": [
     "outputPrepend",
     "outputPrepend",
     "outputPrepend",
     "outputPrepend",
     "outputPrepend",
     "outputPrepend",
     "outputPrepend",
     "outputPrepend",
     "outputPrepend",
     "outputPrepend",
     "outputPrepend",
     "outputPrepend",
     "outputPrepend"
    ]
   },
   "outputs": [
    {
     "output_type": "stream",
     "name": "stdout",
     "text": "Hotel Polo Orchid\nHosteria de la Cascada\nAbacus Motel\nHotel Kununurra\nThe Halyards Hotel\nMissing field/result... skipping.\n"
    },
    {
     "output_type": "execute_result",
     "data": {
      "text/plain": "     Unnamed: 0         City    lat     lon   temp  temp_max  humidity  \\\n21           26         Tura  25.52   90.22  76.95     76.95      34.0   \n96          109       Tandil -37.32  -59.13  75.00     75.00      72.0   \n111         127    Mount Isa -20.73  139.50  77.00     77.00      50.0   \n133         149    Kununurra -15.77  128.73  77.00     77.00      69.0   \n150         168  Port Alfred -33.59   26.89  73.00     73.00      78.0   \n384         436   Marakkanam  12.20   79.95  79.72     79.72      71.0   \n\n     cloudiness  wind_speed country              Hotel_Name  \n21          0.0        4.05      IN       Hotel Polo Orchid  \n96          0.0        1.01      AR  Hosteria de la Cascada  \n111         0.0        9.08      AU            Abacus Motel  \n133         0.0        2.24      AU         Hotel Kununurra  \n150         0.0        1.01      ZA      The Halyards Hotel  \n384         0.0        9.82      IN                          ",
      "text/html": "<div>\n<style scoped>\n    .dataframe tbody tr th:only-of-type {\n        vertical-align: middle;\n    }\n\n    .dataframe tbody tr th {\n        vertical-align: top;\n    }\n\n    .dataframe thead th {\n        text-align: right;\n    }\n</style>\n<table border=\"1\" class=\"dataframe\">\n  <thead>\n    <tr style=\"text-align: right;\">\n      <th></th>\n      <th>Unnamed: 0</th>\n      <th>City</th>\n      <th>lat</th>\n      <th>lon</th>\n      <th>temp</th>\n      <th>temp_max</th>\n      <th>humidity</th>\n      <th>cloudiness</th>\n      <th>wind_speed</th>\n      <th>country</th>\n      <th>Hotel_Name</th>\n    </tr>\n  </thead>\n  <tbody>\n    <tr>\n      <th>21</th>\n      <td>26</td>\n      <td>Tura</td>\n      <td>25.52</td>\n      <td>90.22</td>\n      <td>76.95</td>\n      <td>76.95</td>\n      <td>34.0</td>\n      <td>0.0</td>\n      <td>4.05</td>\n      <td>IN</td>\n      <td>Hotel Polo Orchid</td>\n    </tr>\n    <tr>\n      <th>96</th>\n      <td>109</td>\n      <td>Tandil</td>\n      <td>-37.32</td>\n      <td>-59.13</td>\n      <td>75.00</td>\n      <td>75.00</td>\n      <td>72.0</td>\n      <td>0.0</td>\n      <td>1.01</td>\n      <td>AR</td>\n      <td>Hosteria de la Cascada</td>\n    </tr>\n    <tr>\n      <th>111</th>\n      <td>127</td>\n      <td>Mount Isa</td>\n      <td>-20.73</td>\n      <td>139.50</td>\n      <td>77.00</td>\n      <td>77.00</td>\n      <td>50.0</td>\n      <td>0.0</td>\n      <td>9.08</td>\n      <td>AU</td>\n      <td>Abacus Motel</td>\n    </tr>\n    <tr>\n      <th>133</th>\n      <td>149</td>\n      <td>Kununurra</td>\n      <td>-15.77</td>\n      <td>128.73</td>\n      <td>77.00</td>\n      <td>77.00</td>\n      <td>69.0</td>\n      <td>0.0</td>\n      <td>2.24</td>\n      <td>AU</td>\n      <td>Hotel Kununurra</td>\n    </tr>\n    <tr>\n      <th>150</th>\n      <td>168</td>\n      <td>Port Alfred</td>\n      <td>-33.59</td>\n      <td>26.89</td>\n      <td>73.00</td>\n      <td>73.00</td>\n      <td>78.0</td>\n      <td>0.0</td>\n      <td>1.01</td>\n      <td>ZA</td>\n      <td>The Halyards Hotel</td>\n    </tr>\n    <tr>\n      <th>384</th>\n      <td>436</td>\n      <td>Marakkanam</td>\n      <td>12.20</td>\n      <td>79.95</td>\n      <td>79.72</td>\n      <td>79.72</td>\n      <td>71.0</td>\n      <td>0.0</td>\n      <td>9.82</td>\n      <td>IN</td>\n      <td></td>\n    </tr>\n  </tbody>\n</table>\n</div>"
     },
     "metadata": {},
     "execution_count": 6
    }
   ],
   "source": [
    "hotel_df = ideal_data\n",
    "\n",
    "hotel_df[\"Hotel_Name\"] = \"\"\n",
    "hotel_df\n",
    "\n",
    "\n",
    "\n",
    "params = {\n",
    "    \"radius\": 5000,\n",
    "    \"keyword\": \"hotel\",\n",
    "    \"key\": g_key\n",
    "}\n",
    "\n",
    "for index, row in hotel_df.iterrows():\n",
    "\n",
    "    lat = row[\"lat\"]\n",
    "    lon = row[\"lon\"]\n",
    "\n",
    "    # change location each iteration while leaving original params in place\n",
    "    params[\"location\"] = f\"{lat},{lon}\"\n",
    "\n",
    "    # Use the search term: \"International Airport\" and our lat/lng\n",
    "    base_url = \"https://maps.googleapis.com/maps/api/place/nearbysearch/json\"\n",
    "\n",
    "    # make request and print url\n",
    "    hotel = requests.get(base_url, params=params)\n",
    "    \n",
    "\n",
    "    hotels = hotel.json()\n",
    "\n",
    "    try:\n",
    "        hotel_df.loc[index, \"Hotel_Name\"] = hotels[\"results\"][0][\"name\"]\n",
    "        print(hotels[\"results\"][0][\"name\"])\n",
    "    except (KeyError, IndexError):\n",
    "        print(\"Missing field/result... skipping.\")\n",
    "\n",
    "hotel_df"
   ]
  },
  {
   "cell_type": "code",
   "execution_count": null,
   "metadata": {},
   "outputs": [],
   "source": []
  },
  {
   "cell_type": "code",
   "execution_count": 6,
   "metadata": {},
   "outputs": [],
   "source": [
    "\n",
    ""
   ]
  },
  {
   "cell_type": "code",
   "execution_count": 7,
   "metadata": {},
   "outputs": [],
   "source": [
    "# NOTE: Do not change any of the code in this cell\n",
    "\n",
    "# Using the template add the hotel marks to the heatmap\n",
    "info_box_template = \"\"\"\n",
    "<dl>\n",
    "<dt>Name</dt><dd>{Hotel_Name}</dd>\n",
    "<dt>City</dt><dd>{City}</dd>\n",
    "<dt>Country</dt><dd>{country}</dd>\n",
    "</dl>\n",
    "\"\"\"\n",
    "# Store the DataFrame Row\n",
    "# NOTE: be sure to update with your DataFrame name\n",
    "hotel_info = [info_box_template.format(**row) for index, row in hotel_df.iterrows()]\n",
    "\n",
    "locations = hotel_df[[\"lat\", \"lon\"]]"
   ]
  },
  {
   "cell_type": "code",
   "execution_count": 10,
   "metadata": {},
   "outputs": [
    {
     "output_type": "display_data",
     "data": {
      "text/plain": "Figure(layout=FigureLayout(height='420px'))",
      "application/vnd.jupyter.widget-view+json": {
       "version_major": 2,
       "version_minor": 0,
       "model_id": "a56d74e21d264dd4a164d9ff1056d197"
      }
     },
     "metadata": {}
    }
   ],
   "source": [
    "# Add marker layer ontop of heat map\n",
    "markers = gmaps.marker_layer(locations, info_box_content=hotel_info)\n",
    "fig.add_layer(markers)\n",
    "\n",
    "# Display Map\n",
    "fig"
   ]
  },
  {
   "cell_type": "code",
   "execution_count": null,
   "metadata": {},
   "outputs": [],
   "source": []
  }
 ],
 "metadata": {
  "kernelspec": {
   "display_name": "Python 3.6.10 64-bit ('PythonData': conda)",
   "language": "python",
   "name": "python361064bitpythondataconda702a049063da4b8fb25107aa449393fc"
  },
  "language_info": {
   "codemirror_mode": {
    "name": "ipython",
    "version": 3
   },
   "file_extension": ".py",
   "mimetype": "text/x-python",
   "name": "python",
   "nbconvert_exporter": "python",
   "pygments_lexer": "ipython3",
   "version": "3.7.4-final"
  },
  "latex_envs": {
   "LaTeX_envs_menu_present": true,
   "autoclose": false,
   "autocomplete": true,
   "bibliofile": "biblio.bib",
   "cite_by": "apalike",
   "current_citInitial": 1,
   "eqLabelWithNumbers": true,
   "eqNumInitial": 1,
   "hotkeys": {
    "equation": "Ctrl-E",
    "itemize": "Ctrl-I"
   },
   "labels_anchors": false,
   "latex_user_defs": false,
   "report_style_numbering": false,
   "user_envs_cfg": false
  }
 },
 "nbformat": 4,
 "nbformat_minor": 2
}